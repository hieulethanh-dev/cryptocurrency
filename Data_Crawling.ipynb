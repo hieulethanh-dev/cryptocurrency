{
 "cells": [
  {
   "cell_type": "markdown",
   "metadata": {},
   "source": [
    "# Đề tài: Exploratory Data Analysis of Cryptocurrency Historical Data\n",
    "\n",
    "Sinh viên thực hiện:\n",
    "\n",
    "- Lê Thanh Hiếu - 1712434\n",
    "\n",
    "- Phạm Minh Thắng - 1712759  \n",
    "\n",
    "Link colab: https://colab.research.google.com/drive/1TB8TWzztma41wrzVkWFVsbnkxZZkHKzd?usp=sharing"
   ]
  },
  {
   "cell_type": "markdown",
   "metadata": {},
   "source": [
    "Notebook này dành cho phần thu thập dữ liệu"
   ]
  },
  {
   "cell_type": "markdown",
   "metadata": {
    "id": "34XwK1w81jU_"
   },
   "source": [
    "## Data Crawling"
   ]
  },
  {
   "cell_type": "markdown",
   "metadata": {
    "id": "1_05A8dBvU45"
   },
   "source": [
    "### Cài đặt các công cụ cần thiết"
   ]
  },
  {
   "cell_type": "markdown",
   "metadata": {
    "id": "dVmmYNRA9SOE"
   },
   "source": [
    "Cài đặt Selenium và Chromedriver phục vụ cho việc thu thập dữ liệu"
   ]
  },
  {
   "cell_type": "code",
   "execution_count": null,
   "metadata": {},
   "outputs": [],
   "source": [
    "import pandas as pd"
   ]
  },
  {
   "cell_type": "code",
   "execution_count": null,
   "metadata": {
    "id": "5Gm_IacjvPyy"
   },
   "outputs": [],
   "source": [
    "!pip install selenium\n",
    "!apt-get update # to update ubuntu to correctly run apt install\n",
    "!apt install chromium-chromedriver\n",
    "!cp /usr/lib/chromium-browser/chromedriver /usr/bin"
   ]
  },
  {
   "cell_type": "code",
   "execution_count": null,
   "metadata": {
    "id": "3BbxkJBnwLpg"
   },
   "outputs": [],
   "source": [
    "import sys\n",
    "sys.path.insert(0,'/usr/lib/chromium-browser/chromedriver')\n",
    "from selenium import webdriver\n",
    "from selenium.webdriver.common.keys import Keys\n",
    "chrome_options = webdriver.ChromeOptions()\n",
    "chrome_options.add_argument('--headless')\n",
    "chrome_options.add_argument('--no-sandbox')\n",
    "chrome_options.add_argument('--disable-dev-shm-usage')"
   ]
  },
  {
   "cell_type": "code",
   "execution_count": null,
   "metadata": {
    "id": "-16CkvGvwMvW"
   },
   "outputs": [],
   "source": [
    "driver = webdriver.Chrome('chromedriver',options=chrome_options)"
   ]
  },
  {
   "cell_type": "markdown",
   "metadata": {
    "id": "CIQsd6RIvclM"
   },
   "source": [
    "### Thu thập dữ liệu"
   ]
  },
  {
   "cell_type": "markdown",
   "metadata": {
    "id": "VCQoT3u2vfMW"
   },
   "source": [
    "Toàn bộ dữ liệu được thu thập từ trang [Coinmarketcap](https://coinmarketcap.com). \n",
    "\n",
    "Về [Coinmarketcap](https://coinmarketcap.com), đây là trang web theo dõi giá tiền điện tử được tham khảo nhiều nhất trên thế giới, trong thời đại mà tiền điện tử ngày càng phát triển nhanh chóng. [Coinmarketcap](https://coinmarketcap.com) cung cấp thông tin chính xác, hiệu quả và trực quan về tiền điện tử cho người sử dụng."
   ]
  },
  {
   "cell_type": "markdown",
   "metadata": {
    "id": "DUd38YnobXC6"
   },
   "source": [
    "Trang chủ của [Coinmarketcap](https://coinmarketcap.com) hiển thị danh sách các loại tiền điện tử hiện có trên thị trường, được sắp xếp theo giá trị vốn hoá thị trường. Nhóm tiến hành crawl dữ liệu danh sách các đồng tiền trước tiên.\n",
    "\n",
    "Việc thu thập dữ liệu được thực hiện bằng cách parse HTML với thư viện Selenium (do trang web có sử dụng JavaScript với cơ chế lazy loading).\n",
    "\n",
    "Các thông tin thu thập được từ danh sách bao gồm:\n",
    "\n",
    " - Tên đầy đủ của coin.\n",
    " - Ký hiệu của coin.\n",
    " - Giá trị của coin tại thời điểm thu thập dữ liệu.\n",
    " - Sự thay đổi giá so với 24 giờ/7 ngày trước.\n",
    " - Giá trị vốn hoá thị trường (USD).\n",
    " - Khối lượng giao dịch trong vòng 24h (theo USD và theo loại coin tương ứng).\n",
    " - Tổng lượng coin đang được lưu thông trên thị trường.\n",
    " - URL dẫn đến trang cung cấp thông tin chi tiết từng loại coin.\n"
   ]
  },
  {
   "cell_type": "code",
   "execution_count": null,
   "metadata": {
    "id": "Cynuspk0wPmD"
   },
   "outputs": [],
   "source": [
    "home_url = \"https://coinmarketcap.com\"\n",
    "driver.get(home_url)"
   ]
  },
  {
   "cell_type": "code",
   "execution_count": null,
   "metadata": {
    "id": "uQcammQ1wRtX"
   },
   "outputs": [],
   "source": [
    "driver.find_element_by_class_name(\"hKnmWV\").click()\n",
    "driver.find_element_by_class_name(\"jvQpLZ\").find_element_by_xpath(\"button[3]\").click()\n",
    "driver.find_element_by_class_name(\"cmc-cookie-policy-banner__close\").click()\n",
    "driver.find_element_by_tag_name(\"html\").send_keys(Keys.END)"
   ]
  },
  {
   "cell_type": "code",
   "execution_count": null,
   "metadata": {
    "id": "z6skYRBfwTwR"
   },
   "outputs": [],
   "source": [
    "coin_file = open(\"data/coin_list.csv\", \"w+\")\n",
    "coin_file.write(\"name\\tsymbol\\tprice\\t24h\\t7d\\tmarket_cap\\tvolume(usd)\\tvolume(coin)\\tcirculating_supply\\turl\\n\")"
   ]
  },
  {
   "cell_type": "code",
   "execution_count": null,
   "metadata": {
    "id": "tHU8WNUQwsE5"
   },
   "outputs": [],
   "source": [
    "while True:\n",
    "    print(\"Page:\", driver.find_element_by_class_name(\"rc-pagination-item-active\").get_attribute(\"title\"))\n",
    "    lines = driver.find_element_by_class_name(\"tableWrapper___3utdq\").find_element_by_tag_name(\"tbody\").find_elements_by_tag_name(\"tr\")\n",
    "    for line in lines:\n",
    "        try:\n",
    "            content = line.text.replace(\"\\n\", \"\\t\")\n",
    "            link = line.find_element_by_tag_name(\"a\").get_attribute(\"href\") + \"historical-data/?start=20100101&end=20201215\"\n",
    "            coin_file.write(f\"{content}\\t{link}\\n\")\n",
    "        except:\n",
    "            pass\n",
    "\n",
    "    next = driver.find_element_by_class_name(\"eEiCJF\").find_element_by_class_name(\"rc-pagination-next\")\n",
    "    if \"rc-pagination-disabled\" not in next.get_attribute(\"class\"):\n",
    "        next.click()\n",
    "        time.sleep(1)\n",
    "    else:\n",
    "        break\n",
    "\n",
    "coin_file.close()"
   ]
  },
  {
   "cell_type": "markdown",
   "metadata": {
    "id": "x7jjqjvl4DXB"
   },
   "source": [
    "Sau khi đã có được danh sách các đồng tiền điện tử, nhóm tiến hành thu thập lịch sử thay đổi giá của các đồng tiền trên. Để thu thập lịch sử giá từng loại coin, nhóm sử dụng URL được thu thập trong danh sách các loại coin. Lịch sử được thu thập từ ngày đầu tiên coin có mặt trên thị trường đến ngày 16/12/2020."
   ]
  },
  {
   "cell_type": "code",
   "execution_count": null,
   "metadata": {
    "id": "WXpHJEJ74ZB7"
   },
   "outputs": [],
   "source": [
    "coin_list = pd.read_csv(\"data/coin_list.csv\", sep=\"\\t\")"
   ]
  },
  {
   "cell_type": "code",
   "execution_count": null,
   "metadata": {
    "id": "U5E88uKpiKY2"
   },
   "outputs": [],
   "source": [
    "coin_list.dropna(subset=[\"url\"], inplace=True)\n",
    "coin_list.drop_duplicates(subset=[\"name\", \"symbol\"],inplace=True)\n",
    "coin_list.index = coin_list.index.astype(int)"
   ]
  },
  {
   "cell_type": "code",
   "execution_count": null,
   "metadata": {
    "colab": {
     "base_uri": "https://localhost:8080/",
     "height": 507
    },
    "id": "vLCEx97NeseS",
    "outputId": "321e2d0e-94bb-4c1d-d669-3049c932691b"
   },
   "outputs": [
    {
     "data": {
      "text/html": [
       "<div>\n",
       "<style scoped>\n",
       "    .dataframe tbody tr th:only-of-type {\n",
       "        vertical-align: middle;\n",
       "    }\n",
       "\n",
       "    .dataframe tbody tr th {\n",
       "        vertical-align: top;\n",
       "    }\n",
       "\n",
       "    .dataframe thead th {\n",
       "        text-align: right;\n",
       "    }\n",
       "</style>\n",
       "<table border=\"1\" class=\"dataframe\">\n",
       "  <thead>\n",
       "    <tr style=\"text-align: right;\">\n",
       "      <th></th>\n",
       "      <th>name</th>\n",
       "      <th>symbol</th>\n",
       "      <th>price</th>\n",
       "      <th>24h</th>\n",
       "      <th>7d</th>\n",
       "      <th>market_cap</th>\n",
       "      <th>volume(usd)</th>\n",
       "      <th>volume(coin)</th>\n",
       "      <th>circulating_supply</th>\n",
       "      <th>url</th>\n",
       "    </tr>\n",
       "  </thead>\n",
       "  <tbody>\n",
       "    <tr>\n",
       "      <th>1</th>\n",
       "      <td>Bitcoin</td>\n",
       "      <td>BTC</td>\n",
       "      <td>$26,726.84</td>\n",
       "      <td>3.61%</td>\n",
       "      <td>17.11%</td>\n",
       "      <td>$497,741,034,997</td>\n",
       "      <td>$63,368,452,500</td>\n",
       "      <td>2,365,883 BTC</td>\n",
       "      <td>18,583,331 BTC</td>\n",
       "      <td>https://coinmarketcap.com/currencies/bitcoin/h...</td>\n",
       "    </tr>\n",
       "    <tr>\n",
       "      <th>2</th>\n",
       "      <td>Ethereum</td>\n",
       "      <td>ETH</td>\n",
       "      <td>$727.18</td>\n",
       "      <td>12.94%</td>\n",
       "      <td>18.28%</td>\n",
       "      <td>$83,066,027,790</td>\n",
       "      <td>$33,108,494,005</td>\n",
       "      <td>45,444,903 ETH</td>\n",
       "      <td>114,016,892 ETH</td>\n",
       "      <td>https://coinmarketcap.com/currencies/ethereum/...</td>\n",
       "    </tr>\n",
       "    <tr>\n",
       "      <th>3</th>\n",
       "      <td>Tether</td>\n",
       "      <td>USDT</td>\n",
       "      <td>$0.998099</td>\n",
       "      <td>0.03%</td>\n",
       "      <td>0.06%</td>\n",
       "      <td>$20,781,363,466</td>\n",
       "      <td>$98,199,951,695</td>\n",
       "      <td>98,386,620,807 USDT</td>\n",
       "      <td>20,820,866,934 USDT</td>\n",
       "      <td>https://coinmarketcap.com/currencies/tether/hi...</td>\n",
       "    </tr>\n",
       "    <tr>\n",
       "      <th>4</th>\n",
       "      <td>XRP</td>\n",
       "      <td>XRP</td>\n",
       "      <td>$0.296772</td>\n",
       "      <td>2.27%</td>\n",
       "      <td>44.09%</td>\n",
       "      <td>$13,453,037,560</td>\n",
       "      <td>$9,457,140,954</td>\n",
       "      <td>31,917,869,612 XRP</td>\n",
       "      <td>45,404,028,640 XRP</td>\n",
       "      <td>https://coinmarketcap.com/currencies/xrp/histo...</td>\n",
       "    </tr>\n",
       "    <tr>\n",
       "      <th>5</th>\n",
       "      <td>Litecoin</td>\n",
       "      <td>LTC</td>\n",
       "      <td>$134.63</td>\n",
       "      <td>0.99%</td>\n",
       "      <td>27.06%</td>\n",
       "      <td>$8,993,704,276</td>\n",
       "      <td>$13,904,633,547</td>\n",
       "      <td>102,328,515 LTC</td>\n",
       "      <td>66,187,462 LTC</td>\n",
       "      <td>https://coinmarketcap.com/currencies/litecoin/...</td>\n",
       "    </tr>\n",
       "    <tr>\n",
       "      <th>...</th>\n",
       "      <td>...</td>\n",
       "      <td>...</td>\n",
       "      <td>...</td>\n",
       "      <td>...</td>\n",
       "      <td>...</td>\n",
       "      <td>...</td>\n",
       "      <td>...</td>\n",
       "      <td>...</td>\n",
       "      <td>...</td>\n",
       "      <td>...</td>\n",
       "    </tr>\n",
       "    <tr>\n",
       "      <th>4090</th>\n",
       "      <td>WELL</td>\n",
       "      <td>WELL</td>\n",
       "      <td>$0.302254</td>\n",
       "      <td>3.31%</td>\n",
       "      <td>12.78%</td>\n",
       "      <td>$0</td>\n",
       "      <td>$0</td>\n",
       "      <td>0 WELL</td>\n",
       "      <td>0 WELL</td>\n",
       "      <td>https://coinmarketcap.com/currencies/well-toke...</td>\n",
       "    </tr>\n",
       "    <tr>\n",
       "      <th>4096</th>\n",
       "      <td>Alpha5</td>\n",
       "      <td>A5T</td>\n",
       "      <td>$0.666347</td>\n",
       "      <td>0.07%</td>\n",
       "      <td>1.57%</td>\n",
       "      <td>$0</td>\n",
       "      <td>$0</td>\n",
       "      <td>0 A5T</td>\n",
       "      <td>0 A5T</td>\n",
       "      <td>https://coinmarketcap.com/currencies/alpha5/hi...</td>\n",
       "    </tr>\n",
       "    <tr>\n",
       "      <th>4097</th>\n",
       "      <td>Sugarchain</td>\n",
       "      <td>SUGAR</td>\n",
       "      <td>$0.003149</td>\n",
       "      <td>1.71%</td>\n",
       "      <td>0.82%</td>\n",
       "      <td>$0</td>\n",
       "      <td>$0</td>\n",
       "      <td>0 SUGAR</td>\n",
       "      <td>0 SUGAR</td>\n",
       "      <td>https://coinmarketcap.com/currencies/sugarchai...</td>\n",
       "    </tr>\n",
       "    <tr>\n",
       "      <th>4111</th>\n",
       "      <td>Decentralized Bank</td>\n",
       "      <td>DEBA</td>\n",
       "      <td>$0.026548</td>\n",
       "      <td>13.92%</td>\n",
       "      <td>2.24%</td>\n",
       "      <td>$0</td>\n",
       "      <td>$0</td>\n",
       "      <td>0 DEBA</td>\n",
       "      <td>0 DEBA</td>\n",
       "      <td>https://coinmarketcap.com/currencies/decentral...</td>\n",
       "    </tr>\n",
       "    <tr>\n",
       "      <th>4112</th>\n",
       "      <td>Spartan</td>\n",
       "      <td>300</td>\n",
       "      <td>$451.98</td>\n",
       "      <td>5.87%</td>\n",
       "      <td>12.26%</td>\n",
       "      <td>$0</td>\n",
       "      <td>$0</td>\n",
       "      <td>0 300</td>\n",
       "      <td>0 300</td>\n",
       "      <td>https://coinmarketcap.com/currencies/spartan/h...</td>\n",
       "    </tr>\n",
       "  </tbody>\n",
       "</table>\n",
       "<p>3694 rows × 10 columns</p>\n",
       "</div>"
      ],
      "text/plain": [
       "                    name  ...                                                url\n",
       "1                Bitcoin  ...  https://coinmarketcap.com/currencies/bitcoin/h...\n",
       "2               Ethereum  ...  https://coinmarketcap.com/currencies/ethereum/...\n",
       "3                 Tether  ...  https://coinmarketcap.com/currencies/tether/hi...\n",
       "4                    XRP  ...  https://coinmarketcap.com/currencies/xrp/histo...\n",
       "5               Litecoin  ...  https://coinmarketcap.com/currencies/litecoin/...\n",
       "...                  ...  ...                                                ...\n",
       "4090                WELL  ...  https://coinmarketcap.com/currencies/well-toke...\n",
       "4096              Alpha5  ...  https://coinmarketcap.com/currencies/alpha5/hi...\n",
       "4097          Sugarchain  ...  https://coinmarketcap.com/currencies/sugarchai...\n",
       "4111  Decentralized Bank  ...  https://coinmarketcap.com/currencies/decentral...\n",
       "4112             Spartan  ...  https://coinmarketcap.com/currencies/spartan/h...\n",
       "\n",
       "[3694 rows x 10 columns]"
      ]
     },
     "execution_count": 9,
     "metadata": {
      "tags": []
     },
     "output_type": "execute_result"
    }
   ],
   "source": [
    "coin_list"
   ]
  },
  {
   "cell_type": "code",
   "execution_count": null,
   "metadata": {
    "id": "lx74rZ8u4R9F"
   },
   "outputs": [],
   "source": [
    "for i in range(len(coin_list)):\n",
    "    coin = coin_list.iloc[i]\n",
    "    symbol = coin[\"symbol\"]\n",
    "    f = open(f\"data/{symbol}.csv\", \"w+\")\n",
    "    f.write(\"date\\topen\\thigh\\tlow\\tclose\\tvolume\\tmarket_cap\\n\")\n",
    "\n",
    "    url = coin[\"url\"]\n",
    "    driver.get(url)\n",
    "\n",
    "    time.sleep(10)\n",
    "\n",
    "    try:\n",
    "        data_table = driver.find_element_by_tag_name(\"tbody\")\n",
    "    except:\n",
    "        continue\n",
    "\n",
    "    content = data_table.text.split(\"\\n\")\n",
    "    count = 0\n",
    "    for value in content:\n",
    "        f.write(value)\n",
    "        count += 1\n",
    "        if count < 7:\n",
    "            f.write(\"\\t\")\n",
    "        else:\n",
    "            f.write(\"\\n\")\n",
    "            count = 0\n",
    "    f.close()\n",
    "        "
   ]
  }
 ],
 "metadata": {
  "kernelspec": {
   "display_name": "Python 3.8",
   "language": "python",
   "name": "python3"
  },
  "language_info": {
   "codemirror_mode": {
    "name": "ipython",
    "version": 3
   },
   "file_extension": ".py",
   "mimetype": "text/x-python",
   "name": "python",
   "nbconvert_exporter": "python",
   "pygments_lexer": "ipython3",
   "version": "3.8.6"
  }
 },
 "nbformat": 4,
 "nbformat_minor": 4
}
