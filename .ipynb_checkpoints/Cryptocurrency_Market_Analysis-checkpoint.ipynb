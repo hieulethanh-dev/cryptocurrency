{
 "cells": [
  {
   "cell_type": "markdown",
   "metadata": {
    "id": "prcmH0oW1S1W"
   },
   "source": [
    "# Đề tài: Exploratory Data Analysis of Cryptocurrency Historical Data\n",
    "\n",
    "Sinh viên thực hiện:\n",
    "\n",
    "- Lê Thanh Hiếu - 1712434\n",
    "\n",
    "- Phạm Minh Thắng - 1712759"
   ]
  },
  {
   "cell_type": "markdown",
   "metadata": {
    "id": "567GK7CFvEm4"
   },
   "source": [
    "## Motivation"
   ]
  },
  {
   "cell_type": "markdown",
   "metadata": {
    "id": "9v9omBncvGkX"
   },
   "source": [
    "Song song với sự phát triển của công nghệ, thị trường tiền điện tử đang có những bước phát triển vô cùng mạnh mẽ. Bên cạnh đó, với tình hình dịch bệnh diễn biến phức tạp trên toàn cầu, các nhà đầu tư trên thế giới ngày càng thể hiện sự quan tâm vào tiềm năng to lớn của tiền điện tử."
   ]
  },
  {
   "cell_type": "markdown",
   "metadata": {
    "id": "G64FZ5sX60o_"
   },
   "source": [
    "Trong bối cảnh đó, đặc biệt với sự kiện đồng BTC đã chạm mốc 20000$ và ngày càng có chiều hướng gia tăng về giá trị, nhóm thực hiện đề tài phân tích và khám phá dữ liệu về một số loại tiền điện tử.\n",
    "\n",
    "Thông qua phân tích dữ liệu, nhóm mong muốn có được sự hiểu biết cơ bản về các xu hướng và tạo cơ sở cho việc triển khai mô hình dự đoán. Mục tiêu là trả lời một số câu hỏi từ dữ liệu thu thập được như:\n",
    "1. Đồng tiền nào có giá trị/giá trị thị trường lớn nhất?\n",
    "2. Tương quan giá top 10 đồng tiền ảo\n",
    "3. Xu hướng về khối lượng giao dịch cho top các đồng tiền ảo\n",
    "4. Xem xét về thị phần phân chia giữa top 10 đồng tiền ảo hàng đầu\n",
    "5. Tương quan giữa các thuộc tính với mỗi đòng tiền\n",
    "6. Đồng tiền nào dễ biến động hơn và đồng nào ổn định hơn?\n",
    "7. Biến động giá cả của các loại tiền ảo tương quan với nhau như thế nào?\n",
    "8. Xu hướng theo mùa (seasonal trend) trong biến động giá trông như thế nào?\n",
    "9. Dự đoán giá bitcoin trong tương lai. (Áp dụng học máy)\n",
    "\n"
   ]
  },
  {
   "cell_type": "code",
   "execution_count": 15,
   "metadata": {
    "colab": {
     "base_uri": "https://localhost:8080/"
    },
    "id": "PgBPvbkXySyr",
    "outputId": "75b69586-11fd-4c6c-811d-8c6858fc44c1"
   },
   "outputs": [],
   "source": [
    "# import\n",
    "import numpy as np\n",
    "import pandas as pd\n",
    "import matplotlib.pyplot as plt\n",
    "import seaborn as sns\n",
    "from itertools import product\n",
    "from bokeh.plotting import figure, show, output_file\n",
    "from statsmodels.tsa.seasonal import seasonal_decompose\n",
    "from statsmodels.tsa.stattools import acf, pacf, adfuller\n",
    "from statsmodels.graphics.tsaplots import plot_acf, plot_pacf\n",
    "from statsmodels.tsa.statespace.sarimax import SARIMAX\n",
    "from fbprophet import Prophet\n",
    "%matplotlib inline\n",
    "\n",
    "from numpy.linalg import LinAlgError\n",
    "import warnings\n",
    "warnings.filterwarnings('ignore')"
   ]
  },
  {
   "cell_type": "markdown",
   "metadata": {
    "id": "34XwK1w81jU_"
   },
   "source": [
    "## Data Crawling"
   ]
  },
  {
   "cell_type": "markdown",
   "metadata": {
    "id": "1_05A8dBvU45"
   },
   "source": [
    "### Cài đặt các công cụ cần thiết"
   ]
  },
  {
   "cell_type": "markdown",
   "metadata": {
    "id": "dVmmYNRA9SOE"
   },
   "source": [
    "Cài đặt Selenium và Chromedriver phục vụ cho việc thu thập dữ liệu"
   ]
  },
  {
   "cell_type": "code",
   "execution_count": 16,
   "metadata": {
    "id": "5Gm_IacjvPyy"
   },
   "outputs": [
    {
     "name": "stdout",
     "output_type": "stream",
     "text": [
      "fish: Unknown command: pip\n",
      "fish: \n",
      "pip install selenium\n",
      "^\n",
      "Reading package lists... Done\n",
      "E: Could not open lock file /var/lib/apt/lists/lock - open (13: Permission denied)\n",
      "E: Unable to lock directory /var/lib/apt/lists/\n",
      "W: Problem unlinking the file /var/cache/apt/pkgcache.bin - RemoveCaches (13: Permission denied)\n",
      "W: Problem unlinking the file /var/cache/apt/srcpkgcache.bin - RemoveCaches (13: Permission denied)\n",
      "\u001b[1;31mE: \u001b[0mCould not open lock file /var/lib/dpkg/lock-frontend - open (13: Permission denied)\u001b[0m\n",
      "\u001b[1;31mE: \u001b[0mUnable to acquire the dpkg frontend lock (/var/lib/dpkg/lock-frontend), are you root?\u001b[0m\n",
      "cp: cannot stat '/usr/lib/chromium-browser/chromedriver': No such file or directory\n"
     ]
    }
   ],
   "source": [
    "!pip install selenium\n",
    "!apt-get update # to update ubuntu to correctly run apt install\n",
    "!apt install chromium-chromedriver\n",
    "!cp /usr/lib/chromium-browser/chromedriver /usr/bin"
   ]
  },
  {
   "cell_type": "code",
   "execution_count": 17,
   "metadata": {
    "id": "3BbxkJBnwLpg"
   },
   "outputs": [],
   "source": [
    "import sys\n",
    "sys.path.insert(0,'/usr/lib/chromium-browser/chromedriver')\n",
    "from selenium import webdriver\n",
    "from selenium.webdriver.common.keys import Keys\n",
    "chrome_options = webdriver.ChromeOptions()\n",
    "chrome_options.add_argument('--headless')\n",
    "chrome_options.add_argument('--no-sandbox')\n",
    "chrome_options.add_argument('--disable-dev-shm-usage')"
   ]
  },
  {
   "cell_type": "code",
   "execution_count": 18,
   "metadata": {
    "id": "-16CkvGvwMvW"
   },
   "outputs": [
    {
     "ename": "WebDriverException",
     "evalue": "Message: 'chromedriver' executable needs to be in PATH. Please see https://sites.google.com/a/chromium.org/chromedriver/home\n",
     "output_type": "error",
     "traceback": [
      "\u001b[0;31m---------------------------------------------------------------------------\u001b[0m",
      "\u001b[0;31mFileNotFoundError\u001b[0m                         Traceback (most recent call last)",
      "\u001b[0;32m~/.local/lib/python3.8/site-packages/selenium/webdriver/common/service.py\u001b[0m in \u001b[0;36mstart\u001b[0;34m(self)\u001b[0m\n\u001b[1;32m     71\u001b[0m             \u001b[0mcmd\u001b[0m\u001b[0;34m.\u001b[0m\u001b[0mextend\u001b[0m\u001b[0;34m(\u001b[0m\u001b[0mself\u001b[0m\u001b[0;34m.\u001b[0m\u001b[0mcommand_line_args\u001b[0m\u001b[0;34m(\u001b[0m\u001b[0;34m)\u001b[0m\u001b[0;34m)\u001b[0m\u001b[0;34m\u001b[0m\u001b[0;34m\u001b[0m\u001b[0m\n\u001b[0;32m---> 72\u001b[0;31m             self.process = subprocess.Popen(cmd, env=self.env,\n\u001b[0m\u001b[1;32m     73\u001b[0m                                             \u001b[0mclose_fds\u001b[0m\u001b[0;34m=\u001b[0m\u001b[0mplatform\u001b[0m\u001b[0;34m.\u001b[0m\u001b[0msystem\u001b[0m\u001b[0;34m(\u001b[0m\u001b[0;34m)\u001b[0m \u001b[0;34m!=\u001b[0m \u001b[0;34m'Windows'\u001b[0m\u001b[0;34m,\u001b[0m\u001b[0;34m\u001b[0m\u001b[0;34m\u001b[0m\u001b[0m\n",
      "\u001b[0;32m/usr/lib/python3.8/subprocess.py\u001b[0m in \u001b[0;36m__init__\u001b[0;34m(self, args, bufsize, executable, stdin, stdout, stderr, preexec_fn, close_fds, shell, cwd, env, universal_newlines, startupinfo, creationflags, restore_signals, start_new_session, pass_fds, encoding, errors, text)\u001b[0m\n\u001b[1;32m    853\u001b[0m \u001b[0;34m\u001b[0m\u001b[0m\n\u001b[0;32m--> 854\u001b[0;31m             self._execute_child(args, executable, preexec_fn, close_fds,\n\u001b[0m\u001b[1;32m    855\u001b[0m                                 \u001b[0mpass_fds\u001b[0m\u001b[0;34m,\u001b[0m \u001b[0mcwd\u001b[0m\u001b[0;34m,\u001b[0m \u001b[0menv\u001b[0m\u001b[0;34m,\u001b[0m\u001b[0;34m\u001b[0m\u001b[0;34m\u001b[0m\u001b[0m\n",
      "\u001b[0;32m/usr/lib/python3.8/subprocess.py\u001b[0m in \u001b[0;36m_execute_child\u001b[0;34m(self, args, executable, preexec_fn, close_fds, pass_fds, cwd, env, startupinfo, creationflags, shell, p2cread, p2cwrite, c2pread, c2pwrite, errread, errwrite, restore_signals, start_new_session)\u001b[0m\n\u001b[1;32m   1701\u001b[0m                         \u001b[0merr_msg\u001b[0m \u001b[0;34m=\u001b[0m \u001b[0mos\u001b[0m\u001b[0;34m.\u001b[0m\u001b[0mstrerror\u001b[0m\u001b[0;34m(\u001b[0m\u001b[0merrno_num\u001b[0m\u001b[0;34m)\u001b[0m\u001b[0;34m\u001b[0m\u001b[0;34m\u001b[0m\u001b[0m\n\u001b[0;32m-> 1702\u001b[0;31m                     \u001b[0;32mraise\u001b[0m \u001b[0mchild_exception_type\u001b[0m\u001b[0;34m(\u001b[0m\u001b[0merrno_num\u001b[0m\u001b[0;34m,\u001b[0m \u001b[0merr_msg\u001b[0m\u001b[0;34m,\u001b[0m \u001b[0merr_filename\u001b[0m\u001b[0;34m)\u001b[0m\u001b[0;34m\u001b[0m\u001b[0;34m\u001b[0m\u001b[0m\n\u001b[0m\u001b[1;32m   1703\u001b[0m                 \u001b[0;32mraise\u001b[0m \u001b[0mchild_exception_type\u001b[0m\u001b[0;34m(\u001b[0m\u001b[0merr_msg\u001b[0m\u001b[0;34m)\u001b[0m\u001b[0;34m\u001b[0m\u001b[0;34m\u001b[0m\u001b[0m\n",
      "\u001b[0;31mFileNotFoundError\u001b[0m: [Errno 2] No such file or directory: 'chromedriver'",
      "\nDuring handling of the above exception, another exception occurred:\n",
      "\u001b[0;31mWebDriverException\u001b[0m                        Traceback (most recent call last)",
      "\u001b[0;32m<ipython-input-18-3ac1afc648af>\u001b[0m in \u001b[0;36m<module>\u001b[0;34m\u001b[0m\n\u001b[0;32m----> 1\u001b[0;31m \u001b[0mdriver\u001b[0m \u001b[0;34m=\u001b[0m \u001b[0mwebdriver\u001b[0m\u001b[0;34m.\u001b[0m\u001b[0mChrome\u001b[0m\u001b[0;34m(\u001b[0m\u001b[0;34m'chromedriver'\u001b[0m\u001b[0;34m,\u001b[0m\u001b[0moptions\u001b[0m\u001b[0;34m=\u001b[0m\u001b[0mchrome_options\u001b[0m\u001b[0;34m)\u001b[0m\u001b[0;34m\u001b[0m\u001b[0;34m\u001b[0m\u001b[0m\n\u001b[0m",
      "\u001b[0;32m~/.local/lib/python3.8/site-packages/selenium/webdriver/chrome/webdriver.py\u001b[0m in \u001b[0;36m__init__\u001b[0;34m(self, executable_path, port, options, service_args, desired_capabilities, service_log_path, chrome_options, keep_alive)\u001b[0m\n\u001b[1;32m     71\u001b[0m             \u001b[0mservice_args\u001b[0m\u001b[0;34m=\u001b[0m\u001b[0mservice_args\u001b[0m\u001b[0;34m,\u001b[0m\u001b[0;34m\u001b[0m\u001b[0;34m\u001b[0m\u001b[0m\n\u001b[1;32m     72\u001b[0m             log_path=service_log_path)\n\u001b[0;32m---> 73\u001b[0;31m         \u001b[0mself\u001b[0m\u001b[0;34m.\u001b[0m\u001b[0mservice\u001b[0m\u001b[0;34m.\u001b[0m\u001b[0mstart\u001b[0m\u001b[0;34m(\u001b[0m\u001b[0;34m)\u001b[0m\u001b[0;34m\u001b[0m\u001b[0;34m\u001b[0m\u001b[0m\n\u001b[0m\u001b[1;32m     74\u001b[0m \u001b[0;34m\u001b[0m\u001b[0m\n\u001b[1;32m     75\u001b[0m         \u001b[0;32mtry\u001b[0m\u001b[0;34m:\u001b[0m\u001b[0;34m\u001b[0m\u001b[0;34m\u001b[0m\u001b[0m\n",
      "\u001b[0;32m~/.local/lib/python3.8/site-packages/selenium/webdriver/common/service.py\u001b[0m in \u001b[0;36mstart\u001b[0;34m(self)\u001b[0m\n\u001b[1;32m     79\u001b[0m         \u001b[0;32mexcept\u001b[0m \u001b[0mOSError\u001b[0m \u001b[0;32mas\u001b[0m \u001b[0merr\u001b[0m\u001b[0;34m:\u001b[0m\u001b[0;34m\u001b[0m\u001b[0;34m\u001b[0m\u001b[0m\n\u001b[1;32m     80\u001b[0m             \u001b[0;32mif\u001b[0m \u001b[0merr\u001b[0m\u001b[0;34m.\u001b[0m\u001b[0merrno\u001b[0m \u001b[0;34m==\u001b[0m \u001b[0merrno\u001b[0m\u001b[0;34m.\u001b[0m\u001b[0mENOENT\u001b[0m\u001b[0;34m:\u001b[0m\u001b[0;34m\u001b[0m\u001b[0;34m\u001b[0m\u001b[0m\n\u001b[0;32m---> 81\u001b[0;31m                 raise WebDriverException(\n\u001b[0m\u001b[1;32m     82\u001b[0m                     \"'%s' executable needs to be in PATH. %s\" % (\n\u001b[1;32m     83\u001b[0m                         os.path.basename(self.path), self.start_error_message)\n",
      "\u001b[0;31mWebDriverException\u001b[0m: Message: 'chromedriver' executable needs to be in PATH. Please see https://sites.google.com/a/chromium.org/chromedriver/home\n"
     ]
    }
   ],
   "source": [
    "driver = webdriver.Chrome('chromedriver',options=chrome_options)"
   ]
  },
  {
   "cell_type": "markdown",
   "metadata": {
    "id": "CIQsd6RIvclM"
   },
   "source": [
    "### Thu thập dữ liệu"
   ]
  },
  {
   "cell_type": "markdown",
   "metadata": {
    "id": "VCQoT3u2vfMW"
   },
   "source": [
    "Toàn bộ dữ liệu được thu thập từ trang [Coinmarketcap](https://coinmarketcap.com). \n",
    "\n",
    "Về [Coinmarketcap](https://coinmarketcap.com), đây là trang web theo dõi giá tiền điện tử được tham khảo nhiều nhất trên thế giới, trong thời đại mà tiền điện tử ngày càng phát triển nhanh chóng. [Coinmarketcap](https://coinmarketcap.com) cung cấp thông tin chính xác, hiệu quả và trực quan về tiền điện tử cho người sử dụng."
   ]
  },
  {
   "cell_type": "markdown",
   "metadata": {
    "id": "DUd38YnobXC6"
   },
   "source": [
    "Trang chủ của [Coinmarketcap](https://coinmarketcap.com) hiển thị danh sách các loại tiền điện tử hiện có trên thị trường, được sắp xếp theo giá trị vốn hoá thị trường. Nhóm tiến hành crawl dữ liệu danh sách các đồng tiền trước tiên.\n",
    "\n",
    "Việc thu thập dữ liệu được thực hiện bằng cách parse HTML với thư viện Selenium (do trang web có sử dụng JavaScript với cơ chế lazy loading).\n",
    "\n",
    "Các thông tin thu thập được từ danh sách bao gồm:\n",
    "\n",
    " - Tên đầy đủ của coin.\n",
    " - Ký hiệu của coin.\n",
    " - Giá trị của coin tại thời điểm thu thập dữ liệu.\n",
    " - Sự thay đổi giá so với 24 giờ/7 ngày trước.\n",
    " - Giá trị vốn hoá thị trường (USD).\n",
    " - Khối lượng giao dịch trong vòng 24h (theo USD và theo loại coin tương ứng).\n",
    " - Tổng lượng coin đang được lưu thông trên thị trường.\n",
    " - URL dẫn đến trang cung cấp thông tin chi tiết từng loại coin.\n"
   ]
  },
  {
   "cell_type": "code",
   "execution_count": null,
   "metadata": {
    "id": "Cynuspk0wPmD"
   },
   "outputs": [],
   "source": [
    "%%script false\n",
    "home_url = \"https://coinmarketcap.com\"\n",
    "driver.get(home_url)"
   ]
  },
  {
   "cell_type": "code",
   "execution_count": null,
   "metadata": {
    "id": "uQcammQ1wRtX"
   },
   "outputs": [],
   "source": [
    "%%script false\n",
    "driver.find_element_by_class_name(\"hKnmWV\").click()\n",
    "driver.find_element_by_class_name(\"jvQpLZ\").find_element_by_xpath(\"button[3]\").click()\n",
    "driver.find_element_by_class_name(\"cmc-cookie-policy-banner__close\").click()\n",
    "driver.find_element_by_tag_name(\"html\").send_keys(Keys.END)"
   ]
  },
  {
   "cell_type": "code",
   "execution_count": null,
   "metadata": {
    "id": "z6skYRBfwTwR"
   },
   "outputs": [],
   "source": [
    "%%script false\n",
    "coin_file = open(\"coin_list.csv\", \"w+\")\n",
    "coin_file.write(\"name\\tsymbol\\tprice\\t24h\\t7d\\tmarket_cap\\tvolume(usd)\\tvolume(coin)\\tcirculating_supply\\turl\\n\")"
   ]
  },
  {
   "cell_type": "code",
   "execution_count": null,
   "metadata": {
    "id": "tHU8WNUQwsE5"
   },
   "outputs": [],
   "source": [
    "%%script false\n",
    "while True:\n",
    "    print(\"Page:\", driver.find_element_by_class_name(\"rc-pagination-item-active\").get_attribute(\"title\"))\n",
    "    lines = driver.find_element_by_class_name(\"tableWrapper___3utdq\").find_element_by_tag_name(\"tbody\").find_elements_by_tag_name(\"tr\")\n",
    "    for line in lines:\n",
    "        try:\n",
    "            content = line.text.replace(\"\\n\", \"\\t\")\n",
    "            link = line.find_element_by_tag_name(\"a\").get_attribute(\"href\") + \"historical-data/?start=20100101&end=20201215\"\n",
    "            coin_file.write(f\"{content}\\t{link}\\n\")\n",
    "        except:\n",
    "            pass\n",
    "\n",
    "    next = driver.find_element_by_class_name(\"eEiCJF\").find_element_by_class_name(\"rc-pagination-next\")\n",
    "    if \"rc-pagination-disabled\" not in next.get_attribute(\"class\"):\n",
    "        next.click()\n",
    "        time.sleep(1)\n",
    "    else:\n",
    "        break\n",
    "\n",
    "coin_file.close()"
   ]
  },
  {
   "cell_type": "markdown",
   "metadata": {
    "id": "x7jjqjvl4DXB"
   },
   "source": [
    "Sau khi đã có được danh sách các đồng tiền điện tử, nhóm tiến hành thu thập lịch sử thay đổi giá của các đồng tiền trên. Để thu thập lịch sử giá từng loại coin, nhóm sử dụng URL được thu thập trong danh sách các loại coin. Lịch sử được thu thập từ ngày đầu tiên coin có mặt trên thị trường đến ngày 16/12/2020."
   ]
  },
  {
   "cell_type": "code",
   "execution_count": null,
   "metadata": {
    "id": "WXpHJEJ74ZB7"
   },
   "outputs": [],
   "source": [
    "coin_list = pd.read_csv(\"coin_list.csv\", sep=\"\\t\")"
   ]
  },
  {
   "cell_type": "code",
   "execution_count": null,
   "metadata": {
    "id": "U5E88uKpiKY2"
   },
   "outputs": [],
   "source": [
    "coin_list.dropna(subset=[\"url\"], inplace=True)\n",
    "coin_list.drop_duplicates(subset=[\"name\", \"symbol\"],inplace=True)\n",
    "coin_list.index = coin_list.index.astype(int)"
   ]
  },
  {
   "cell_type": "code",
   "execution_count": null,
   "metadata": {
    "colab": {
     "base_uri": "https://localhost:8080/",
     "height": 507
    },
    "id": "vLCEx97NeseS",
    "outputId": "321e2d0e-94bb-4c1d-d669-3049c932691b"
   },
   "outputs": [],
   "source": [
    "coin_list"
   ]
  },
  {
   "cell_type": "code",
   "execution_count": null,
   "metadata": {
    "id": "lx74rZ8u4R9F"
   },
   "outputs": [],
   "source": [
    "%%script false\n",
    "for i in range(len(coin_list)):\n",
    "    coin = coin_list.iloc[i]\n",
    "    symbol = coin[\"symbol\"]\n",
    "    f = open(f\"data/{symbol}.csv\", \"w+\")\n",
    "    f.write(\"date\\topen\\thigh\\tlow\\tclose\\tvolume\\tmarket_cap\\n\")\n",
    "\n",
    "    url = coin[\"url\"]\n",
    "    driver.get(url)\n",
    "\n",
    "    time.sleep(10)\n",
    "\n",
    "    try:\n",
    "        data_table = driver.find_element_by_tag_name(\"tbody\")\n",
    "    except:\n",
    "        continue\n",
    "\n",
    "    content = data_table.text.split(\"\\n\")\n",
    "    count = 0\n",
    "    for value in content:\n",
    "        f.write(value)\n",
    "        count += 1\n",
    "        if count < 7:\n",
    "            f.write(\"\\t\")\n",
    "        else:\n",
    "            f.write(\"\\n\")\n",
    "            count = 0\n",
    "    f.close()\n",
    "        "
   ]
  },
  {
   "cell_type": "markdown",
   "metadata": {
    "id": "1rqOMZwB2Dtx"
   },
   "source": [
    "## Understanding the Data\n",
    "\n",
    "\n"
   ]
  },
  {
   "cell_type": "markdown",
   "metadata": {
    "id": "NCkrNEHDe-lQ"
   },
   "source": [
    "Dưới đây là danh sách các loại coin được thu thập ở phần đầu tiên. Danh sách này được sắp xếp theo thứ tự giảm dần của giá trị vốn hoá"
   ]
  },
  {
   "cell_type": "code",
   "execution_count": null,
   "metadata": {
    "colab": {
     "base_uri": "https://localhost:8080/",
     "height": 421
    },
    "id": "Wg8S0BAq2hDA",
    "outputId": "f74202dc-3b31-4eb4-ed0b-b344bb57214c"
   },
   "outputs": [],
   "source": [
    "coin_list"
   ]
  },
  {
   "cell_type": "code",
   "execution_count": null,
   "metadata": {
    "colab": {
     "base_uri": "https://localhost:8080/"
    },
    "id": "2QtTRAq32jss",
    "outputId": "f05b5954-1f67-4fe6-f75c-97e6d657c501"
   },
   "outputs": [],
   "source": [
    "top10 = coin_list.head(10)\n",
    "print(top10.columns)"
   ]
  },
  {
   "cell_type": "code",
   "execution_count": null,
   "metadata": {
    "colab": {
     "base_uri": "https://localhost:8080/"
    },
    "id": "n61KdOz5_1Dz",
    "outputId": "599a12c4-456c-46dd-a399-09a552600636"
   },
   "outputs": [],
   "source": [
    "top10_symbol = top10['symbol']\n",
    "top10['name']"
   ]
  },
  {
   "cell_type": "code",
   "execution_count": null,
   "metadata": {
    "colab": {
     "base_uri": "https://localhost:8080/"
    },
    "id": "DWZ0jZGD_njq",
    "outputId": "a5a0f965-6831-403c-c890-fe57cf286d57"
   },
   "outputs": [],
   "source": [
    "top10_symbol"
   ]
  },
  {
   "cell_type": "markdown",
   "metadata": {
    "id": "F6o-lobD0G1U"
   },
   "source": [
    "Vì đã thu thập dữ liệu thay đổi giá của từng loại coin, nhóm tiến hành trích xuất dữ liệu từng loại coin vào cùng một dataframe."
   ]
  },
  {
   "cell_type": "code",
   "execution_count": null,
   "metadata": {
    "id": "IlZBd1kd2z_E"
   },
   "outputs": [],
   "source": [
    "df = pd.DataFrame()\n",
    "for symbol in coin_list.symbol.values:\n",
    "    temp_df = pd.read_csv(f\"data/{symbol}.csv\", parse_dates=[\"date\"], sep='\\t', thousands=',')\n",
    "    temp_df.insert(0,\"symbol\", symbol)\n",
    "    df = pd.concat([df, temp_df])\n",
    "df.reset_index(drop=True,inplace=True)"
   ]
  },
  {
   "cell_type": "code",
   "execution_count": null,
   "metadata": {
    "colab": {
     "base_uri": "https://localhost:8080/",
     "height": 421
    },
    "id": "lVvkiajZi7iy",
    "outputId": "bef805b8-79f1-406f-87a4-9436d2601982"
   },
   "outputs": [],
   "source": [
    "df"
   ]
  },
  {
   "cell_type": "code",
   "execution_count": null,
   "metadata": {
    "colab": {
     "base_uri": "https://localhost:8080/",
     "height": 205
    },
    "id": "j7C9mBc_x7Wb",
    "outputId": "d96fb8e0-ba76-4b13-8d87-9311d25def76"
   },
   "outputs": [],
   "source": [
    "df.head()"
   ]
  },
  {
   "cell_type": "code",
   "execution_count": null,
   "metadata": {
    "colab": {
     "base_uri": "https://localhost:8080/",
     "height": 299
    },
    "id": "lVjR1gmpNxEq",
    "outputId": "127eec12-e975-4423-fd14-228ef4b95643"
   },
   "outputs": [],
   "source": [
    "df.describe()"
   ]
  },
  {
   "cell_type": "markdown",
   "metadata": {
    "id": "ieaI4qKU-q7o"
   },
   "source": [
    "### Features\n",
    "Tập dữ liệu về giá của từng loại coin chứa các thuộc tính sau:\n",
    "- **Date**: Ngày quan sát dữ liệu\n",
    "- **Open**: Giá mở cửa của ngày được cho\n",
    "- **High**: Giá cao nhất trong ngày được cho\n",
    "- **Low**: Giá thấp nhất trong ngày được cho\n",
    "- **Close**: Giá đóng cửa của ngày đựơc cho\n",
    "- **Volume**: Khối lượng giao dịch trong ngày được cho\n",
    "- **Market Cap**: Vốn hóa thị trường tính bằng USD"
   ]
  },
  {
   "cell_type": "markdown",
   "metadata": {
    "id": "IcGtxNWX2QZL"
   },
   "source": [
    "## Data Preprocessing"
   ]
  },
  {
   "cell_type": "code",
   "execution_count": null,
   "metadata": {
    "colab": {
     "base_uri": "https://localhost:8080/"
    },
    "id": "2Zt-0qk18QFX",
    "outputId": "8897fbae-93dc-4d16-d765-922882ec0207"
   },
   "outputs": [],
   "source": [
    "# summarize the number of unique values in each column\n",
    "print(df.nunique())"
   ]
  },
  {
   "cell_type": "code",
   "execution_count": null,
   "metadata": {
    "colab": {
     "base_uri": "https://localhost:8080/"
    },
    "id": "LoZJrTgW-Kme",
    "outputId": "1272a603-0428-4790-97bb-396ab415f99e"
   },
   "outputs": [],
   "source": [
    "df.shape"
   ]
  },
  {
   "cell_type": "code",
   "execution_count": null,
   "metadata": {
    "colab": {
     "base_uri": "https://localhost:8080/"
    },
    "id": "88g57J1O-O86",
    "outputId": "0f1681d8-245f-4440-a140-e7ae71fbe8bd"
   },
   "outputs": [],
   "source": [
    "df.columns"
   ]
  },
  {
   "cell_type": "markdown",
   "metadata": {
    "id": "ARL6pLUC9UzA"
   },
   "source": [
    "## Exploratory Data Analysis"
   ]
  },
  {
   "cell_type": "markdown",
   "metadata": {
    "id": "hyMXzPjra1I1"
   },
   "source": [
    "#### Giá trị thị trường"
   ]
  },
  {
   "cell_type": "code",
   "execution_count": null,
   "metadata": {
    "colab": {
     "base_uri": "https://localhost:8080/",
     "height": 367
    },
    "id": "Arr4IFO4K_xI",
    "outputId": "df2e6fe6-c766-4bee-ff82-a9a34dda8237"
   },
   "outputs": [],
   "source": [
    "# Top 10 cryptocurrencies in 2020 Market Cap wise\n",
    "ax = df.groupby(['symbol'])['market_cap'].first().sort_values(ascending=False).head(10).sort_values().plot(kind='barh', figsize=(10,5))\n",
    "ax.set_xlabel(\"Market cap (in billion USD)\")\n",
    "plt.title(\"Top 10 Currencies by Market Cap\")"
   ]
  },
  {
   "cell_type": "markdown",
   "metadata": {
    "id": "zZQ-qu14ujTU"
   },
   "source": []
  },
  {
   "cell_type": "code",
   "execution_count": null,
   "metadata": {
    "colab": {
     "base_uri": "https://localhost:8080/",
     "height": 367
    },
    "id": "Cx94K2TUbKyz",
    "outputId": "6957f7ce-7f81-47ac-b8af-0fc6ce4e9243"
   },
   "outputs": [],
   "source": [
    "# Top 10 cryptocurrencies in 2020 Market Cap wise\n",
    "ax = df.groupby(['symbol'])['close'].first().sort_values(ascending=False).head(10).sort_values().plot(kind='barh', figsize=(10,5))\n",
    "ax.set_xlabel(\"Price per 1 unit (in USD)\")\n",
    "plt.title(\"Top 10 Currencies by Price per 1 unit\")"
   ]
  },
  {
   "cell_type": "markdown",
   "metadata": {
    "id": "8PwT0fnD3BU3"
   },
   "source": [
    "#### Tương quan giá top 10 đồng tiền ảo"
   ]
  },
  {
   "cell_type": "code",
   "execution_count": null,
   "metadata": {
    "colab": {
     "base_uri": "https://localhost:8080/"
    },
    "id": "ot8IG1MMRGOu",
    "outputId": "203e1e77-662e-4a05-be05-14ce01ebd36a"
   },
   "outputs": [],
   "source": [
    "top_10_currency_names = df.groupby(['symbol'])['market_cap'].first().sort_values(ascending=False).head(10).index\n",
    "top_10_currency_names"
   ]
  },
  {
   "cell_type": "code",
   "execution_count": null,
   "metadata": {
    "colab": {
     "base_uri": "https://localhost:8080/",
     "height": 421
    },
    "id": "UBC8l71uRuwu",
    "outputId": "174a4e76-4f6f-4e81-f7fb-216e9aa54e23"
   },
   "outputs": [],
   "source": [
    "data_top_10_currencies = df[df['symbol'].isin(top_10_currency_names)]\n",
    "data_top_10_currencies"
   ]
  },
  {
   "cell_type": "code",
   "execution_count": null,
   "metadata": {
    "colab": {
     "base_uri": "https://localhost:8080/",
     "height": 501
    },
    "id": "5SG9WqmYbvyl",
    "outputId": "3108f5aa-59c4-48c1-f181-6a34b16df861"
   },
   "outputs": [],
   "source": [
    "# dataframe where we will observe closing prices for each currency\n",
    "close_df = df.groupby(['date', 'symbol'])['close'].last().unstack()\n",
    "plt.figure(figsize=(14,8))\n",
    "sns.heatmap(close_df[top_10_currency_names].corr(),vmin=0, vmax=1, cmap='coolwarm', annot=True);"
   ]
  },
  {
   "cell_type": "markdown",
   "metadata": {
    "id": "aCuGUYivfhcp"
   },
   "source": [
    "#### Tương quan về giá trị thị trường top 10 đồng tiền ảo"
   ]
  },
  {
   "cell_type": "code",
   "execution_count": null,
   "metadata": {
    "colab": {
     "base_uri": "https://localhost:8080/",
     "height": 501
    },
    "id": "kDRBhD7qfqRv",
    "outputId": "a0834369-3c95-4803-80ec-4c095788244f"
   },
   "outputs": [],
   "source": [
    "# dataframe where we will observe market cap for each currency\n",
    "market_df = df.groupby(['date', 'symbol'])['market_cap'].last().unstack()\n",
    "plt.figure(figsize=(14,8))\n",
    "sns.heatmap(market_df[top_10_currency_names].corr(),vmin=0, vmax=1, cmap='coolwarm', annot=True);"
   ]
  },
  {
   "cell_type": "markdown",
   "metadata": {
    "id": "dE76Gr04aF45"
   },
   "source": [
    "#### Xem xét về thị phần phân chia giữa top 10 đồng tiền ảo hàng đầu (treemap)"
   ]
  },
  {
   "cell_type": "markdown",
   "metadata": {
    "id": "TWlg2u8d3olf"
   },
   "source": [
    "#### Giá trị (USD) trên 1 đơn vị theo thời gian"
   ]
  },
  {
   "cell_type": "code",
   "execution_count": null,
   "metadata": {
    "colab": {
     "base_uri": "https://localhost:8080/",
     "height": 458
    },
    "id": "NxzoxdjTSHjV",
    "outputId": "a45e7400-1f23-4f06-8756-aff928efd4d2"
   },
   "outputs": [],
   "source": [
    "plt.rcParams[\"figure.figsize\"] = (12,7)\n",
    "ax = data_top_10_currencies.groupby(['date', 'symbol'])['close'].mean().unstack().plot();\n",
    "ax.set_ylabel(\"Price per 1 unit (in USD)\");\n",
    "plt.title(\"Price per unit of currency\"); \n",
    "plt.show()"
   ]
  },
  {
   "cell_type": "markdown",
   "metadata": {
    "id": "nEhgBYu0Vup9"
   },
   "source": [
    "#### Giá trị thị trường theo thời gian"
   ]
  },
  {
   "cell_type": "code",
   "execution_count": null,
   "metadata": {
    "colab": {
     "base_uri": "https://localhost:8080/",
     "height": 458
    },
    "id": "EzeEIKJbVy7V",
    "outputId": "e95ea46d-3dab-49af-93a4-0fb2adcc8cf5"
   },
   "outputs": [],
   "source": [
    "# Market Capitalization\n",
    "ax = data_top_10_currencies.groupby(['date', 'symbol'])['market_cap'].mean().unstack().plot();\n",
    "ax.set_ylabel(\"Market Cap (in billion USD)\");\n",
    "plt.title(\"Market cap per Currency\"); "
   ]
  },
  {
   "cell_type": "markdown",
   "metadata": {
    "id": "1_v4g4z1XbJZ"
   },
   "source": [
    "#### Khối lượng giao dịch theo thời gian"
   ]
  },
  {
   "cell_type": "code",
   "execution_count": null,
   "metadata": {
    "colab": {
     "base_uri": "https://localhost:8080/",
     "height": 350
    },
    "id": "Wc9mur9VXzL4",
    "outputId": "69b4dbba-b9a3-4fc9-9df3-22aae1432095"
   },
   "outputs": [],
   "source": [
    "# Volume\n",
    "ax = data_top_10_currencies.groupby(['date', 'symbol'])['volume'].mean().unstack().plot(figsize=(10,5));\n",
    "ax.set_ylabel(\"Transaction Volume (in million)\");\n",
    "plt.title(\"Transaction Volume per Currency\");"
   ]
  },
  {
   "cell_type": "markdown",
   "metadata": {
    "id": "8B6jeU-x3vPp"
   },
   "source": [
    "#### Giá trị thị trường trên tổng số đơn vị đang lưu hành"
   ]
  },
  {
   "cell_type": "markdown",
   "metadata": {
    "id": "cHqIYHwY38ho"
   },
   "source": [
    "##### Khối lượng giao dịch trên tổng số đơn vị đang lưu hành"
   ]
  },
  {
   "cell_type": "markdown",
   "metadata": {
    "id": "KBl_urNjpMNw"
   },
   "source": [
    "#### Biểu đồ nến (Candlestick chart) cho Bitcoin"
   ]
  },
  {
   "cell_type": "code",
   "execution_count": null,
   "metadata": {
    "id": "wvy58Zryp60f"
   },
   "outputs": [],
   "source": [
    "def increase_decrease(open, close):\n",
    "  if close > open:\n",
    "    value = 'Increase'\n",
    "  elif close < open:\n",
    "    value = 'Decrease'\n",
    "  else:\n",
    "    value = 'Equal'\n",
    "  return value"
   ]
  },
  {
   "cell_type": "code",
   "execution_count": null,
   "metadata": {
    "id": "QXbR3Yw3rHkZ"
   },
   "outputs": [],
   "source": [
    "# def draw_candle_chart(df, symbol):\n",
    "#   df.loc[df['symbol'] == symbol]\n",
    "  \n",
    "#   df[\"status\"] = [increase_decrease(o, c) for o, c in zip(df.open, df.close)]\n",
    "#   df[\"middle\"] = (df.open + df.close)/2\n",
    "#   df[\"height\"] = abs(df.close-df.open)\n",
    "#   pic = figure(x_axis_type='datetime', width=1000, height=300)\n",
    "#   pic.title.text=\"Candle stick chart for \" + symbol\n",
    "#   print(df.columns)\n",
    "#   hours_12=12*60*60*1000\n",
    "#  # Increase\n",
    "#   pic.rect(df.index[df.status==\"Increase\"],df.middle[df.status==\"Increase\"],\n",
    "#   hours_12, df.height[df.status==\"Increase\"],fill_color=\"#CCFFFF\",\n",
    "#   line_color=\"black\")\n",
    "#   # Decrease\n",
    "#   pic.rect(df.index[df.status==\"Decrease\"],df.middle[df.status==\"Decrease\"],\n",
    "#   hours_12, df.height[df.status==\"Decrease\"],fill_color=\"#FF3333\",\n",
    "#   line_color=\"black\")\n",
    "#   pic.segment(df.index, df.high, df.index, df.low, color=\"Black\")\n",
    "#   output_file('bitcoin.html')\n",
    "#   show(pic)\n",
    "\n",
    "# draw_candle_chart(df, 'BTC')"
   ]
  },
  {
   "cell_type": "code",
   "execution_count": null,
   "metadata": {
    "id": "_y1-CNYLv2QC"
   },
   "outputs": [],
   "source": [
    "import plotly.graph_objects as go\n",
    "from datetime import datetime"
   ]
  },
  {
   "cell_type": "code",
   "execution_count": null,
   "metadata": {
    "colab": {
     "base_uri": "https://localhost:8080/",
     "height": 542
    },
    "id": "pRo_YTnpv5Bv",
    "outputId": "b245b070-fc67-40f5-eb53-76edd65614f0"
   },
   "outputs": [],
   "source": [
    "def draw_candle_chart(df, symbol):\n",
    "  df = df.loc[df['symbol'] == symbol]\n",
    "  fig = go.Figure(data=[go.Candlestick(x=df['date'],\n",
    "                  open=df['open'],\n",
    "                  high=df['high'],\n",
    "                  low=df['low'],\n",
    "                  close=df['close'])])\n",
    "  fig.update_layout(xaxis_rangeslider_visible=False)\n",
    "  fig.show()\n",
    "\n",
    "draw_candle_chart(df, 'BTC')"
   ]
  },
  {
   "cell_type": "markdown",
   "metadata": {
    "id": "T2ZAyx-S3-6i"
   },
   "source": [
    "#### Biểu đồ nến:\n",
    "- Thân nến được tô màu biểu trưng cho sự tăng giảm của giá, bóng nến là 2 que nhỏ nằm ở trên và dưới thân nến.\n",
    "- Hai đỉnh thân nến tương ứng giá đóng cửa, mở cửa của phiên giao dịch. Với nến màu xanh: giá mở cửa ở dưới, giá đóng cửa ở trên và ngược lại.\n",
    "- Đỉnh trên/dưới bóng nến tương ứng giá cao nhất/thấp nhất trong phiên giao dịch.\n",
    "\n",
    "##### Ý nghĩa cơ bản:\n",
    "- Thân nến càng dài chứng tỏ sức mua/bán càng mạnh. Thân nến dài cho thấy chênh lệch lớn giữa giá mở cửa và đóng cửa. Điều này chứng tỏ phe mua đang áp đảo phe bán nếu nến xanh hoặc phe bán đang gây áp lực mạnh nếu nến đỏ.\n",
    "- Thân nến ngắn cho thấy thị trường đang chững lại, cả 2 phe đều đang lưỡng lự chưa quyết định.\n",
    "- Bóng nến dài chứng tỏ thị trường đang có sự cạnh tranh giữa 2 phe. Cả 2 phe đều mua bán mạnh khiến giá tăng giảm liên tục. Cần quan tâm đến đỉnh của bóng nến (giá cao nhất/thấp nhất) để đánh giá các mức cản (ngưỡng hỗ trợ, ngưỡng kháng cự).\n",
    "\n",
    "\n",
    "\n"
   ]
  },
  {
   "cell_type": "markdown",
   "metadata": {
    "id": "6I79IvLexz5E"
   },
   "source": [
    "### Phân tích sâu hơn về Bitcoin"
   ]
  },
  {
   "cell_type": "markdown",
   "metadata": {
    "id": "kWRF4_gpx3kj"
   },
   "source": [
    "Bitcoin đang được xem như biểu tượng của tiền điện tử, khi mà sự quan tâm về lĩnh vực này được đặt chủ yếu lên Bitcoin. Nhắc đến tiền điện tử thì không thể không nhắc đến Bitcoin. Vì vậy nhóm sẽ tiến hành phân tích tập trung vào đồng Bitcoin trên thị trường."
   ]
  },
  {
   "cell_type": "markdown",
   "metadata": {
    "id": "-1-RK7nt0cKF"
   },
   "source": [
    "Việc phân tích và dự đoán giá của đồng Bitcoin được thực hiện trên giá đóng cửa của Bitcoin theo từng ngày."
   ]
  },
  {
   "cell_type": "code",
   "execution_count": null,
   "metadata": {
    "colab": {
     "base_uri": "https://localhost:8080/",
     "height": 452
    },
    "id": "s68T2OCJ4w0I",
    "outputId": "0ab3c8f2-44ec-4da7-ae98-ee7b2481f939"
   },
   "outputs": [],
   "source": [
    "btc_df = df[(df[\"symbol\"] == \"BTC\")]\n",
    "btc_df.set_index(\"date\", inplace=True)\n",
    "btc_df.sort_index(inplace=True)\n",
    "btc_df"
   ]
  },
  {
   "cell_type": "markdown",
   "metadata": {
    "id": "lHnHiFVz711F"
   },
   "source": [
    "Dữ liệu về sự thay đổi giá đồng BTC là dữ liệu time-series."
   ]
  },
  {
   "cell_type": "markdown",
   "metadata": {
    "id": "1NDDedvC1bdk"
   },
   "source": [
    "#### Biểu đồ giá BTC"
   ]
  },
  {
   "cell_type": "code",
   "execution_count": null,
   "metadata": {
    "colab": {
     "base_uri": "https://localhost:8080/",
     "height": 475
    },
    "id": "mNts7CeQ1aYe",
    "outputId": "d6e2dffd-0d56-45a3-9ee3-418d6c17f996"
   },
   "outputs": [],
   "source": [
    "btc_df[[\"close\"]].plot(title=\"BTC close prices from 2013 to 2020\", ylabel=\"USD\")"
   ]
  },
  {
   "cell_type": "markdown",
   "metadata": {
    "id": "5HSB0RpZ43BF"
   },
   "source": [
    "#### Kiểm tra tính dừng của dữ liệu"
   ]
  },
  {
   "cell_type": "markdown",
   "metadata": {
    "id": "2pBVtFOA9fF4"
   },
   "source": [
    "Dữ liệu time-series có tính dừng có ý nghĩa trong việc dự đoán dữ liệu, giúp cho việc mô hình hoá dữ liệu dễ dàng thu được kết quả chính xác hơn. Để kiểm tra tính dừng của dữ liệu, ta sử dụng phương pháp kiểm định Dickey-Fuller và phân rã dữ liệu."
   ]
  },
  {
   "cell_type": "markdown",
   "metadata": {
    "id": "DhgdGUfC5mob"
   },
   "source": [
    "Việc phân rã được thực hiện bằng cách phân rã dữ liệu giá thành các thành phần con:\n",
    " - Trend: thành phần này chỉ ra xu hướng tổng quan của dữ liệu theo thời gian: lên hoặc xuống, tăng hoặc giảm\n",
    " - Seasonality: thành phần chỉ ra các xu hướng theo mùa vị, chỉ ra các pattern theo tháng, theo quý\n",
    " - Error: thành phần nhiễu còn lại sau khi trích xuất hết các thành phần ở trên, nó chỉ ra sự bất thường của các điểm dữ liệu"
   ]
  },
  {
   "cell_type": "markdown",
   "metadata": {
    "id": "jqbwyhiY5nYw"
   },
   "source": [
    "Sử dụng Addictive Time-Series để phân rã: Value = Base Level + Trend + Seasonality + Error"
   ]
  },
  {
   "cell_type": "code",
   "execution_count": null,
   "metadata": {
    "id": "r8Yob_Y20YAk"
   },
   "outputs": [],
   "source": [
    "def decompose(df):\n",
    "    # Additive Decomposition\n",
    "    result_add = seasonal_decompose(df, model='additive', extrapolate_trend='freq')\n",
    "\n",
    "    # Plot\n",
    "    plt.rcParams.update({'figure.figsize': (8,8)})\n",
    "    result_add.plot().suptitle('Additive Decompose', fontsize=12)\n",
    "    plt.show()"
   ]
  },
  {
   "cell_type": "markdown",
   "metadata": {
    "id": "qX1vTdYd_c9I"
   },
   "source": [
    "Sử dụng DF Test sẽ cho chúng ta biết được giá trị P-value của dữ liệu. Nếu P-value nhỏ hơn 0.05, ta có thể xem như dữ liệu có tính dừng."
   ]
  },
  {
   "cell_type": "code",
   "execution_count": null,
   "metadata": {
    "id": "986PltCZ88tz"
   },
   "outputs": [],
   "source": [
    "def ADFTest(series):\n",
    "    adf = adfuller(series)\n",
    "    print(\"P-value: {}\".format(adf[1]))"
   ]
  },
  {
   "cell_type": "markdown",
   "metadata": {
    "id": "VHrBNMHi_9HU"
   },
   "source": [
    "Trước tiên ta tiến hành kiểm tra với dữ liệu ban đầu."
   ]
  },
  {
   "cell_type": "code",
   "execution_count": null,
   "metadata": {
    "colab": {
     "base_uri": "https://localhost:8080/",
     "height": 603
    },
    "id": "thIHG0n0-45q",
    "outputId": "64afab56-b8e3-432c-a372-3e8470e27e54"
   },
   "outputs": [],
   "source": [
    "decompose(btc_df.close)\n",
    "ADFTest(btc_df.close)"
   ]
  },
  {
   "cell_type": "code",
   "execution_count": null,
   "metadata": {
    "colab": {
     "base_uri": "https://localhost:8080/",
     "height": 603
    },
    "id": "NHgGojRGB1Vq",
    "outputId": "8e839c34-e34a-4fb5-cfed-da5a9053f762"
   },
   "outputs": [],
   "source": [
    "btc_month_df = btc_df.resample('M').mean()\n",
    "\n",
    "decompose(btc_month_df.close)\n",
    "ADFTest(btc_month_df.close)"
   ]
  },
  {
   "cell_type": "markdown",
   "metadata": {
    "id": "Rf1rme6lqzYV"
   },
   "source": [
    "Ta có thể dễ dàng nhận thấy độ lỗi trước 2017 dao động tương đối ổn định, cho đến gần cuối năm 2017, khi mà xảy ra hiện tượng bong bóng tiền ảo, khiến cho giá trị thay đổi có tính bất thường cao."
   ]
  },
  {
   "cell_type": "markdown",
   "metadata": {
    "id": "w4KDo9C-CKSx"
   },
   "source": [
    "Với giá trị P-value như trên, ta có thể dễ dàng nhận thấy dữ liệu không có tính dừng. Việc này sẽ khó khăn cho việc mô hình hoá dữ liệu.\n",
    "\n",
    "Bên cạnh đó, ta có thể thấy khoảng cuối năm 2017 có sự bất thuờng lớn ở dữ liệu. Điều này tương đối rõ ràng khi mà giai đoạn đó là giai đoạn bong bóng tiền điện tử diễn ra với sự đạt đỉnh kỉ lục của giá trị đồng BTC (so với thời điểm trước đó).\n",
    "\n",
    "Ta thử biến đổi dữ liệu để dữ liệu trở nên dễ dàng hơn cho việc dự đoán."
   ]
  },
  {
   "cell_type": "markdown",
   "metadata": {
    "id": "aOVT1cZWC5MZ"
   },
   "source": [
    "#### Biến đổi dữ liệu"
   ]
  },
  {
   "cell_type": "markdown",
   "metadata": {
    "id": "-oDScIrJJaEl"
   },
   "source": [
    "##### Differencing"
   ]
  },
  {
   "cell_type": "code",
   "execution_count": null,
   "metadata": {
    "colab": {
     "base_uri": "https://localhost:8080/",
     "height": 1000
    },
    "id": "-IEE48CqepKY",
    "outputId": "4fe5a1cc-a0ad-4a30-d684-a465c537cb32"
   },
   "outputs": [],
   "source": [
    "plt.rcParams.update({'figure.figsize':(13,10), 'figure.dpi':120})\n",
    "fig, axes = plt.subplots(2, 2)\n",
    "\n",
    "# Original Series\n",
    "axes[0, 0].plot(btc_df.close); axes[0, 0].set_title('Original Series')\n",
    "plot_acf(btc_df.close, ax=axes[0, 1], lags=50)\n",
    "\n",
    "# 1st Differencing\n",
    "axes[1, 0].plot(btc_df.close.diff()); axes[1, 0].set_title('1st Order Differencing')\n",
    "plot_acf(btc_df.close.diff().dropna(), ax=axes[1, 1],lags=50)\n",
    "\n",
    "plt.show()"
   ]
  },
  {
   "cell_type": "code",
   "execution_count": null,
   "metadata": {
    "colab": {
     "base_uri": "https://localhost:8080/"
    },
    "id": "7_Fly-Q1KJjt",
    "outputId": "045beace-1246-4d9d-a1ea-b0271a24c92a"
   },
   "outputs": [],
   "source": [
    "print(\"On 1st order differencing, \", end=\"\")\n",
    "ADFTest(btc_df.close.diff().dropna())"
   ]
  },
  {
   "cell_type": "markdown",
   "metadata": {
    "id": "Qjnf9j2EKtZA"
   },
   "source": [
    "P-value thu được nhỏ hơn 0.05, nghĩa là ta đã thu được dữ liệu có tính dừng."
   ]
  },
  {
   "cell_type": "markdown",
   "metadata": {
    "id": "T6e-ngH9SVTK"
   },
   "source": [
    "Dựng biểu đồ ACF và PACF ta được:"
   ]
  },
  {
   "cell_type": "code",
   "execution_count": null,
   "metadata": {
    "colab": {
     "base_uri": "https://localhost:8080/",
     "height": 601
    },
    "id": "0kwwv8kkPjtS",
    "outputId": "2d814855-b45a-4c4a-d66f-45f09d2d2233"
   },
   "outputs": [],
   "source": [
    "fig, axes = plt.subplots(1,2,figsize=(12,3), dpi= 100)\n",
    "plot_acf(btc_df.close.diff().dropna(), lags=50,ax=axes[0])\n",
    "plot_pacf(btc_df.close.diff().dropna(), lags=50, ax=axes[1])"
   ]
  },
  {
   "cell_type": "markdown",
   "metadata": {
    "id": "hStICweQDtAB"
   },
   "source": [
    "##### Biến đổi hàm log và differencing"
   ]
  },
  {
   "cell_type": "code",
   "execution_count": null,
   "metadata": {
    "id": "0-_0qEScEDuF"
   },
   "outputs": [],
   "source": [
    "btc_log_df = pd.DataFrame(np.log(btc_df.close))\n",
    "btc_log_diff_df = btc_log_df.diff().dropna()"
   ]
  },
  {
   "cell_type": "code",
   "execution_count": null,
   "metadata": {
    "colab": {
     "base_uri": "https://localhost:8080/"
    },
    "id": "gIUJUhROLJdq",
    "outputId": "714cea78-91a9-4df3-82b2-04da03fcfc3f"
   },
   "outputs": [],
   "source": [
    "print(\"On log series, \", end=\"\")\n",
    "ADFTest(btc_log_df.close)\n",
    "print(\"On 1st order differencing with log series, \", end=\"\")\n",
    "ADFTest(btc_log_diff_df.close)"
   ]
  },
  {
   "cell_type": "markdown",
   "metadata": {
    "id": "HN4O-TOymuRO"
   },
   "source": [
    "P-value thu được nhỏ hơn 0.05, như vậy ta đã có thể xem như dữ liệu có tính dừng."
   ]
  },
  {
   "cell_type": "code",
   "execution_count": null,
   "metadata": {
    "colab": {
     "base_uri": "https://localhost:8080/",
     "height": 1000
    },
    "id": "ezS77VFVK75w",
    "outputId": "7736edd0-8e15-4986-a2a4-5fcdfa7eef63"
   },
   "outputs": [],
   "source": [
    "plt.rcParams.update({'figure.figsize':(13,10), 'figure.dpi':120})\n",
    "fig, axes = plt.subplots(2, 2)\n",
    "\n",
    "# Original Series\n",
    "axes[0, 0].plot(btc_log_df.close); axes[0, 0].set_title('Log Series')\n",
    "plot_acf(btc_log_df.close, ax=axes[0, 1], lags=50)\n",
    "\n",
    "# 1st Differencing\n",
    "axes[1, 0].plot(btc_log_diff_df.close.diff()); axes[1, 0].set_title('1st Order Differencing')\n",
    "plot_acf(btc_log_diff_df.close, ax=axes[1, 1],lags=50)\n",
    "\n",
    "plt.show()"
   ]
  },
  {
   "cell_type": "markdown",
   "metadata": {
    "id": "X8YBZzAwnUDd"
   },
   "source": [
    "Ta lần lượt vẽ biểu đồ ACF và PACF với hai Differencing Series"
   ]
  },
  {
   "cell_type": "code",
   "execution_count": null,
   "metadata": {
    "colab": {
     "base_uri": "https://localhost:8080/",
     "height": 402
    },
    "id": "4I6zFNdwMLfY",
    "outputId": "9c483cee-7f84-4e16-ab8e-c8b8635b268b"
   },
   "outputs": [],
   "source": [
    "fig, axes = plt.subplots(1,2,figsize=(13,4), dpi= 100)\n",
    "fig.suptitle(\"1st Order Differencing on Original Series\")\n",
    "plot_acf(btc_df.close.diff().diff().dropna(), lags=50,ax=axes[0])\n",
    "plot_pacf(btc_df.close.diff().diff().dropna(), lags=50, ax=axes[1])\n",
    "plt.show()"
   ]
  },
  {
   "cell_type": "code",
   "execution_count": null,
   "metadata": {
    "colab": {
     "base_uri": "https://localhost:8080/",
     "height": 402
    },
    "id": "dAeiKsjTMlRP",
    "outputId": "6a775e6e-c70b-4f32-e10d-7643216c75e7"
   },
   "outputs": [],
   "source": [
    "fig, axes = plt.subplots(1,2,figsize=(13,4), dpi= 100)\n",
    "fig.suptitle(\"1st Order Differencing on Log Series\")\n",
    "plot_acf(btc_log_df.close.diff().diff().dropna(), lags=50,ax=axes[0])\n",
    "plot_pacf(btc_log_df.close.diff().diff().dropna(), lags=50, ax=axes[1])\n",
    "plt.show()"
   ]
  },
  {
   "cell_type": "markdown",
   "metadata": {
    "id": "TjqsWogpSb4z"
   },
   "source": [
    "Có thể thấy tại `lag=5` và `lag=10` xuất hiện một số tương quan nhất định."
   ]
  },
  {
   "cell_type": "markdown",
   "metadata": {
    "id": "61l0xtO-17yZ"
   },
   "source": [
    "## Áp dụng học máy"
   ]
  },
  {
   "cell_type": "markdown",
   "metadata": {
    "id": "l-13dtHLTYBK"
   },
   "source": [
    "Nhóm lựa chọn mô hình baseline là ARIMA và độ đo dùng để đánh giá sẽ là RMSE và MAPE."
   ]
  },
  {
   "cell_type": "markdown",
   "metadata": {
    "id": "BJe03QQ6Zye4"
   },
   "source": [
    "### ARIMA\n",
    "\n",
    "ARIMA là viết tắt của cụm từ Autoregressive Intergrated Moving Average. Mô hình sẽ biểu diễn phương trình hồi qui tuyến tính đa biến (multiple linear regression) của các biến đầu vào."
   ]
  },
  {
   "cell_type": "markdown",
   "metadata": {
    "id": "6XrzW_-fTOdI"
   },
   "source": [
    "### Lựa chọn tham số cho mô hình ARIMA"
   ]
  },
  {
   "cell_type": "code",
   "execution_count": null,
   "metadata": {
    "colab": {
     "base_uri": "https://localhost:8080/"
    },
    "id": "5N4yxf8qTWyF",
    "outputId": "0c5fe32b-14bf-4087-f39d-b01aa7867512"
   },
   "outputs": [],
   "source": [
    "a = [range(5), range(2), range(5)]\n",
    "params = list(product(*a))\n",
    "\n",
    "results = []   \n",
    "min_aic = float('inf')\n",
    "best_param = []\n",
    "\n",
    "# checking different set of params for best fit\n",
    "for param in params:\n",
    "    try:\n",
    "        model = SARIMAX(btc_log_df.close, order=param).fit(disp=-1)\n",
    "    except LinAlgError:\n",
    "        print('Rejected Parameters:', param)\n",
    "        continue\n",
    "    except ValueError:\n",
    "        print('Rejected Parameters:', param)\n",
    "        continue\n",
    "    if(min_aic > model.aic):\n",
    "        min_aic = model.aic\n",
    "        best_param = param\n",
    "        best_model = model\n",
    "        \n",
    "    results.append([param, model.aic])\n",
    "\n",
    "print(best_param,min_aic)\n",
    "print(results)"
   ]
  },
  {
   "cell_type": "markdown",
   "metadata": {
    "id": "SrM__aIQphYd"
   },
   "source": [
    "### Huấn luyện và đánh giá mô hình"
   ]
  },
  {
   "cell_type": "markdown",
   "metadata": {
    "id": "Vq9E3CcjotfP"
   },
   "source": [
    "Tập dữ liệu đánh giá bao gồm giá đồng BTC 90 ngày cuối cùng, và tập dữ liệu huấn luyện bao gồm phần còn lại."
   ]
  },
  {
   "cell_type": "code",
   "execution_count": null,
   "metadata": {
    "id": "THHuAC3AnuJf"
   },
   "outputs": [],
   "source": [
    "days = 90\n",
    "\n",
    "train = btc_log_df.close.iloc[:-days]\n",
    "test = btc_log_df.close.iloc[-days:]"
   ]
  },
  {
   "cell_type": "markdown",
   "metadata": {
    "id": "fIBI0QAklHSv"
   },
   "source": [
    "#### Huấn luyện mô hình"
   ]
  },
  {
   "cell_type": "code",
   "execution_count": null,
   "metadata": {
    "id": "EkaFn935nwtC"
   },
   "outputs": [],
   "source": [
    "model = SARIMAX(train, \n",
    "                order=best_param,\n",
    "                freq='D',\n",
    "                enforce_stationarity=False, \n",
    "                enforce_invertibility=False)\n",
    "fitted = model.fit(disp=-1)"
   ]
  },
  {
   "cell_type": "code",
   "execution_count": null,
   "metadata": {
    "colab": {
     "base_uri": "https://localhost:8080/"
    },
    "id": "lFBOy6Uenz5k",
    "outputId": "97bc8894-2298-4439-dc31-e76f2a4f9bdb"
   },
   "outputs": [],
   "source": [
    "fitted.summary()"
   ]
  },
  {
   "cell_type": "code",
   "execution_count": null,
   "metadata": {
    "colab": {
     "base_uri": "https://localhost:8080/"
    },
    "id": "DJpuKFpkn3rF",
    "outputId": "cbdfdd77-8ca2-4254-a9e6-5027caf6417a"
   },
   "outputs": [],
   "source": [
    "fitted.plot_diagnostics(figsize=(15,8))\n",
    "plt.show()"
   ]
  },
  {
   "cell_type": "markdown",
   "metadata": {
    "id": "maNFdAP1cDeJ"
   },
   "source": [
    "#### Kiểm tra với dữ liệu tập test"
   ]
  },
  {
   "cell_type": "markdown",
   "metadata": {
    "id": "DTMj4GtMoHPA"
   },
   "source": [
    "Vì trước đó nhóm thực hiện huấn luyện với dữ liệu log của giá đồng tiền, nên phần này nhóm tiến hành chuyển ngược dữ liệu dạng log về dữ liệu giá như ban đầu."
   ]
  },
  {
   "cell_type": "code",
   "execution_count": null,
   "metadata": {
    "id": "AX3Txpbzn_ZB"
   },
   "outputs": [],
   "source": [
    "# Values to test against the test set\n",
    "fc   = fitted.get_forecast(len(test))\n",
    "conf = fc.conf_int()\n",
    "\n",
    "# Transforming the values back to normal\n",
    "fc_series    = np.exp(pd.Series(fc.predicted_mean, index=test.index))\n",
    "lower_series = np.exp(pd.Series(conf.iloc[:, 0], index=test.index))\n",
    "upper_series = np.exp(pd.Series(conf.iloc[:, 1], index=test.index))\n",
    "\n",
    "train_origin = np.exp(train)\n",
    "test_origin  = np.exp(test)\n",
    "\n",
    "# Values to test against the train set, see how the model fits\n",
    "predictions = fitted.get_prediction(start=pd.to_datetime('2014'), dynamic=False)\n",
    "pred        = np.exp(predictions.predicted_mean)\n",
    "\n",
    "# Confidence interval for the training set\n",
    "conf_int   = np.exp(predictions.conf_int())\n",
    "low_conf   = np.exp(pd.Series(conf_int.iloc[:,0], index=train.index))\n",
    "upper_conf = np.exp(pd.Series(conf_int.iloc[:,1], index=train.index))"
   ]
  },
  {
   "cell_type": "markdown",
   "metadata": {
    "id": "eGvqQtIKoS4R"
   },
   "source": [
    "Biểu đồ dự đoán giá BTC"
   ]
  },
  {
   "cell_type": "code",
   "execution_count": null,
   "metadata": {
    "colab": {
     "base_uri": "https://localhost:8080/"
    },
    "id": "_2Pq0VDYoWOQ",
    "outputId": "329a8dcc-df45-491e-e58d-bb924a38a4db"
   },
   "outputs": [],
   "source": [
    "plt.rcParams.update({'figure.figsize': (14, 8)})\n",
    "\n",
    "# Plotting the training set, test set,forecast, and confidence interval.\n",
    "plt.plot(train_origin, label='train')\n",
    "plt.plot(test_origin, label='actual')\n",
    "plt.plot(fc_series, label='forecast')\n",
    "plt.fill_between(lower_series.index, lower_series, upper_series, color='k', alpha=.15)\n",
    "\n",
    "# Plotting against the training data\n",
    "pred.plot(label='Fit to Training', color='w')\n",
    "plt.fill_between(conf_int.index, conf_int.iloc[:,0], conf_int.iloc[:,1], color='g',alpha=.5)\n",
    "\n",
    "plt.title('Fit to Train Data and \\nForecasting vs Actual Test Values')\n",
    "plt.legend()\n",
    "plt.show()"
   ]
  },
  {
   "cell_type": "markdown",
   "metadata": {
    "id": "57JKKPunqFJ8"
   },
   "source": [
    "Phóng to giai đoạn năm 2020"
   ]
  },
  {
   "cell_type": "code",
   "execution_count": null,
   "metadata": {
    "colab": {
     "base_uri": "https://localhost:8080/"
    },
    "id": "4cJt_sVKokPP",
    "outputId": "76a7a22a-a9cb-4393-92b5-d13a85dca821"
   },
   "outputs": [],
   "source": [
    "plt.rcParams.update({'figure.figsize': (14, 8)})\n",
    "\n",
    "# Plotting the training set, test set,forecast, and confidence interval.\n",
    "plt.plot(train_origin, label='train')\n",
    "plt.plot(test_origin, label='actual')\n",
    "plt.plot(fc_series, label='forecast')\n",
    "plt.fill_between(lower_series.index, lower_series, upper_series, color='k', alpha=.15)\n",
    "\n",
    "# Plotting against the training data\n",
    "pred.plot(label='Fit to Training', color='w')\n",
    "plt.fill_between(conf_int.index, conf_int.iloc[:,0], conf_int.iloc[:,1], color='g',alpha=.5)\n",
    "\n",
    "plt.xlim(['2020-01', '2021-01'])\n",
    "\n",
    "plt.title('Fit to Train Data and \\nForecasting vs Actual Test Values')\n",
    "plt.legend()\n",
    "plt.show()"
   ]
  },
  {
   "cell_type": "markdown",
   "metadata": {
    "id": "qoMByMtWrgqy"
   },
   "source": [
    "#### Đánh giá độ lỗi"
   ]
  },
  {
   "cell_type": "markdown",
   "metadata": {
    "id": "_4a5Nt_Ar4Mg"
   },
   "source": [
    "Nhóm đánh giá độ lỗi của mô hình bằng RMSE"
   ]
  },
  {
   "cell_type": "code",
   "execution_count": null,
   "metadata": {
    "colab": {
     "base_uri": "https://localhost:8080/"
    },
    "id": "c7Ztb5nisBHG",
    "outputId": "098a051b-7ee1-4ce7-818d-658a51001bd7"
   },
   "outputs": [],
   "source": [
    "# Calculating our errors\n",
    "rmse = np.sqrt(((pred - train_origin) ** 2).mean())\n",
    "\n",
    "print(\"RMSE: \", rmse)"
   ]
  },
  {
   "cell_type": "markdown",
   "metadata": {
    "id": "zes484GhvfoK"
   },
   "source": [
    "Ngoài ARIMA, nhóm cũng tiến hành thử nghiệm với mô hình Facebook Prophet và tiến hành so sánh nhằm chọn ra mô hình tốt hơn."
   ]
  },
  {
   "cell_type": "markdown",
   "metadata": {
    "id": "U3zs-yJKvfej"
   },
   "source": [
    "### Facebook Prophet"
   ]
  },
  {
   "cell_type": "markdown",
   "metadata": {
    "id": "x-c8MGiGv3dw"
   },
   "source": [
    "Facebook Prophet là mô hình dùng trong việc phân tích và dự đoán dữ liệu time-series dựa trên mô hình Addictive. Facebook Prophet có khả năng xử lý dữ liệu nhiễu và ngoại lai"
   ]
  },
  {
   "cell_type": "markdown",
   "metadata": {
    "id": "cdnOH8OMxBKt"
   },
   "source": [
    "#### Chuẩn bị dữ liệu"
   ]
  },
  {
   "cell_type": "markdown",
   "metadata": {
    "id": "jmEs2tgPxC7p"
   },
   "source": [
    "Vì FB Prophet cần dữ liệu theo đúng format yêu cầu, ta tiến hành tiền xử lý."
   ]
  },
  {
   "cell_type": "code",
   "execution_count": null,
   "metadata": {
    "colab": {
     "base_uri": "https://localhost:8080/",
     "height": 421
    },
    "id": "sL7ihUizv2_9",
    "outputId": "8834701c-90e1-4980-d7ea-b7f6c81b51b1"
   },
   "outputs": [],
   "source": [
    "prophet_df = pd.DataFrame(btc_df[\"close\"])\n",
    "prophet_df.reset_index(inplace=True)\n",
    "prophet_df.columns = [\"ds\", \"y\"]\n",
    "prophet_df"
   ]
  },
  {
   "cell_type": "markdown",
   "metadata": {
    "id": "x9nPcyqTx_WN"
   },
   "source": [
    "#### Huấn luyện và đánh giá mô hình"
   ]
  },
  {
   "cell_type": "code",
   "execution_count": null,
   "metadata": {
    "colab": {
     "base_uri": "https://localhost:8080/"
    },
    "id": "90LDkPn5wl1p",
    "outputId": "d4be070c-7dc4-48f3-b9e1-8f9db3a8c420"
   },
   "outputs": [],
   "source": [
    "prophet = Prophet(interval_width=0.95)\n",
    "prophet.fit(prophet_df)"
   ]
  },
  {
   "cell_type": "code",
   "execution_count": null,
   "metadata": {
    "colab": {
     "base_uri": "https://localhost:8080/",
     "height": 205
    },
    "id": "EhV44Qu7wxJx",
    "outputId": "d57ba599-e1cf-4a50-d0a4-e940d218ee7b"
   },
   "outputs": [],
   "source": [
    "future = prophet.make_future_dataframe(periods=15, freq='D')\n",
    "future.tail()"
   ]
  },
  {
   "cell_type": "code",
   "execution_count": null,
   "metadata": {
    "colab": {
     "base_uri": "https://localhost:8080/"
    },
    "id": "O3qf3PSfw4xA",
    "outputId": "cb5e39dd-eb94-4e8a-f07b-8589e856ad7d"
   },
   "outputs": [],
   "source": [
    "forecast = prophet.predict(future)\n",
    "forecast.tail()"
   ]
  },
  {
   "cell_type": "code",
   "execution_count": null,
   "metadata": {
    "colab": {
     "base_uri": "https://localhost:8080/"
    },
    "id": "9ODDsTBUyobl",
    "outputId": "612e2551-4fa1-4fd4-dff0-bea5d250a4d6"
   },
   "outputs": [],
   "source": [
    "forecast.yhat[:-15]\n",
    "btc_df.close"
   ]
  },
  {
   "cell_type": "markdown",
   "metadata": {
    "id": "-cUXA4h8zGCK"
   },
   "source": [
    "#### Đánh giá độ lỗi của mô hình"
   ]
  },
  {
   "cell_type": "code",
   "execution_count": null,
   "metadata": {
    "colab": {
     "base_uri": "https://localhost:8080/"
    },
    "id": "JRAU6nirw91n",
    "outputId": "40e83fa0-7294-4559-d5c4-423eb1423a4b"
   },
   "outputs": [],
   "source": [
    "# Calculating our errors\n",
    "rmse = np.sqrt(((forecast.yhat.values[:-15] - btc_df.close.values) ** 2).mean())\n",
    "\n",
    "print(\"RMSE: \", rmse)"
   ]
  },
  {
   "cell_type": "markdown",
   "metadata": {
    "id": "jXwMtheIrMhs"
   },
   "source": [
    "### Sử dụng mô hình để dự đoán giá BTC trong tương lai"
   ]
  },
  {
   "cell_type": "markdown",
   "metadata": {
    "id": "1WUGqokkzMkE"
   },
   "source": [
    "Với kết quả thu được ở trên, nhóm quyết định lựa chọn mô hình ARIMA với tham số (4,1,4)."
   ]
  },
  {
   "cell_type": "markdown",
   "metadata": {
    "id": "HCl4igSTrMiO"
   },
   "source": [
    "Sau khi chọn lựa được mô hình, nhóm muốn tiến hành thử việc dự đoán giá trị BTC trong 15 ngày cuối cùng của năm 2020. Trong trường hợp này, mô hình sẽ được huấn luyện với toàn bộ tập dữ liệu."
   ]
  },
  {
   "cell_type": "code",
   "execution_count": null,
   "metadata": {
    "id": "QQtuctAErMiO"
   },
   "outputs": [],
   "source": [
    "model = SARIMAX(btc_log_df, \n",
    "                order=best_param,\n",
    "                freq='D',\n",
    "                enforce_stationarity=False, \n",
    "                enforce_invertibility=False)\n",
    "fitted = model.fit(disp=-1)"
   ]
  },
  {
   "cell_type": "markdown",
   "metadata": {
    "id": "9xWCXjUhrMiQ"
   },
   "source": [
    "Sau khi huấn luyện xong, nhóm sẽ cho mô hình dự đoán giá BTC trong vòng 15 ngày."
   ]
  },
  {
   "cell_type": "code",
   "execution_count": null,
   "metadata": {
    "id": "JEcxM9g0rMiQ"
   },
   "outputs": [],
   "source": [
    "# Getting the forecast of future values\n",
    "future = fitted.get_forecast(steps=15)\n",
    "\n",
    "# Transforming values back\n",
    "future_price = np.exp(future.predicted_mean)\n",
    "\n",
    "# Confidence interval for forecasted values\n",
    "future_conf = np.exp(future.conf_int())"
   ]
  },
  {
   "cell_type": "code",
   "execution_count": null,
   "metadata": {
    "colab": {
     "base_uri": "https://localhost:8080/",
     "height": 800
    },
    "id": "-XLi7PGPtxN4",
    "outputId": "0df87532-bd87-40a3-ac12-a138416232c6"
   },
   "outputs": [],
   "source": [
    "ax = np.exp(btc_log_df.close).plot(label='Actual', figsize=(16,8))\n",
    "\n",
    "# Plottting the forecast\n",
    "future_price.plot(ax=ax, label='Future Price')\n",
    "\n",
    "# Shading in the confidence interval\n",
    "ax.fill_between(future_conf.index,\n",
    "                future_conf.iloc[:, 0],\n",
    "                future_conf.iloc[:, 1], color='k', alpha=.25)\n",
    "\n",
    "ax.set_xlabel('Date')\n",
    "ax.set_ylabel('USD')\n",
    "ax.set_xlim(['2020-10', '2021-01'])\n",
    "\n",
    "plt.title('Forecast BTC prices in 17/12 - 31/12/2020')\n",
    "plt.legend()\n",
    "plt.show()"
   ]
  },
  {
   "cell_type": "markdown",
   "metadata": {
    "id": "N7cR7Qhn0mHw"
   },
   "source": [
    "Mô hình dự đoán đồng tiền BTC sẽ tăng nhẹ về giá trị trong những ngày cuối cùng của năm 2020, trong khi trên thực tế nó đang tăng phi mã và đã cán mốc 28000 USD. Nhìn chung thì mô hình dự đoán đúng việc đồng BTC sẽ tiếp tục phát triển, tuy nhiên giá trị cụ thể chỉ mang tính tham khảo và chúng ta không nên sử dụng kết quả này để tiến hành đầu tư."
   ]
  },
  {
   "cell_type": "markdown",
   "metadata": {
    "id": "YhMQzhznTm-z"
   },
   "source": [
    "## Kết luận"
   ]
  },
  {
   "cell_type": "markdown",
   "metadata": {
    "id": "lo6zmxDMTssF"
   },
   "source": [
    "Từ kết quả thu được, nhóm rút ra kết luận:\n",
    " - Số lượng đồng tiền ảo trên thị trường ngày càng tăng theo thời gian, chứng tỏ sự phát triển ngày càng lớn của thị truờng tiền điện tử.\n",
    " - Đồng Bitcoin (BTC) vẫn đang là đồng tiền phổ biến nhất, có giá trị và vốn hoá thị trường dẫn đầu so với các đồng tiền còn lại.\n",
    " - Đồng BTC nói riêng, thị trường tiền điện tử nói chung vẫn đang có xu hướng tiếp tục phát triển mạnh mẽ. (với sự phát triển của công nghệ và ảnh hưởng của dịch bệnh đang diễn ra trên khắp thế giới."
   ]
  }
 ],
 "metadata": {
  "colab": {
   "collapsed_sections": [],
   "name": "Cryptocurrency Market Analysis.ipynb",
   "provenance": []
  },
  "kernelspec": {
   "display_name": "Python 3",
   "language": "python",
   "name": "python3"
  },
  "language_info": {
   "codemirror_mode": {
    "name": "ipython",
    "version": 3
   },
   "file_extension": ".py",
   "mimetype": "text/x-python",
   "name": "python",
   "nbconvert_exporter": "python",
   "pygments_lexer": "ipython3",
   "version": "3.8.5"
  }
 },
 "nbformat": 4,
 "nbformat_minor": 1
}
